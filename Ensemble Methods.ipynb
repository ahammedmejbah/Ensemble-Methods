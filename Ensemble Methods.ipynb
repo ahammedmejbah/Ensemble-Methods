{
 "cells": [
  {
   "cell_type": "markdown",
   "id": "db695c24-fee9-4cf6-a117-963caeaa6dc4",
   "metadata": {},
   "source": [
    "<center><h2> Ensemble Methods</h2></center>\n",
    "<u><p>You can Follow me on: </p></u>\n",
    "\n",
    "<ol>\n",
    "<li><a href=\"https://web.facebook.com/ahammadmejbah\">Facebook</a></li>\n",
    "<li><a href=\"https://github.com/ahammadmejbah\">GitHub</a></li>\n",
    "<li><a href=\"https://www.kaggle.com/mejbahahammad\">Kaggle</a></li>\n",
    "<li><a href=\"https://www.linkedin.com/in/ahammadmejbah/\">Linkedin</a></li>\n",
    "</ol>"
   ]
  },
  {
   "cell_type": "code",
   "execution_count": 1,
   "id": "925a2419-2745-4397-b031-b32dc3d902c1",
   "metadata": {},
   "outputs": [],
   "source": [
    "import sklearn.datasets as datasets\n",
    "from sklearn.ensemble import BaggingClassifier\n",
    "from sklearn.neighbors import KNeighborsClassifier\n",
    "from sklearn.ensemble import RandomForestClassifier\n",
    "from sklearn.ensemble import AdaBoostClassifier\n",
    "from sklearn.ensemble import GradientBoostingClassifier\n",
    "from sklearn.ensemble import VotingClassifier\n",
    "\n",
    "from sklearn.linear_model import LogisticRegression\n",
    "from sklearn.naive_bayes import GaussianNB"
   ]
  },
  {
   "cell_type": "code",
   "execution_count": 2,
   "id": "72918777-7393-4c90-b3e2-ea35e198d106",
   "metadata": {},
   "outputs": [],
   "source": [
    "XData, YData = datasets.load_iris(return_X_y=True)"
   ]
  },
  {
   "cell_type": "markdown",
   "id": "3c9c1256-2cd5-4516-898d-ad834e7e9a5f",
   "metadata": {},
   "source": [
    "## Bagging Classifier"
   ]
  },
  {
   "cell_type": "markdown",
   "id": "5174dcb5-80de-4ae6-bb87-2c520f809ba6",
   "metadata": {},
   "source": [
    "### KNeighbors Classifier"
   ]
  },
  {
   "cell_type": "code",
   "execution_count": 3,
   "id": "84323cd4-12b3-479a-9d3d-3296b76a729b",
   "metadata": {},
   "outputs": [],
   "source": [
    "model = KNeighborsClassifier(n_neighbors = 3)"
   ]
  },
  {
   "cell_type": "code",
   "execution_count": 4,
   "id": "d2cc2570-29a4-4f4c-aff1-79de55fde21f",
   "metadata": {},
   "outputs": [],
   "source": [
    "bagging_model = BaggingClassifier(model,\n",
    "                                 max_samples = .5,\n",
    "                                 max_features = 2,\n",
    "                                 n_jobs = 2,\n",
    "                                 oob_score = True)"
   ]
  },
  {
   "cell_type": "code",
   "execution_count": null,
   "id": "fb3fe6b0-74ae-4b17-bb67-241fbe68d473",
   "metadata": {},
   "outputs": [],
   "source": []
  },
  {
   "cell_type": "code",
   "execution_count": 5,
   "id": "99223c7e-40ae-43fe-8570-f4a03b7fdbc0",
   "metadata": {},
   "outputs": [
    {
     "data": {
      "text/plain": [
       "BaggingClassifier(base_estimator=KNeighborsClassifier(n_neighbors=3),\n",
       "                  max_features=2, max_samples=0.5, n_jobs=2, oob_score=True)"
      ]
     },
     "execution_count": 5,
     "metadata": {},
     "output_type": "execute_result"
    }
   ],
   "source": [
    "bagging_model.fit(XData, YData)"
   ]
  },
  {
   "cell_type": "code",
   "execution_count": 6,
   "id": "a949c6d6-54f9-403a-a12d-e0f69dd824d1",
   "metadata": {},
   "outputs": [
    {
     "data": {
      "text/plain": [
       "0.96"
      ]
     },
     "execution_count": 6,
     "metadata": {},
     "output_type": "execute_result"
    }
   ],
   "source": [
    "bagging_model.oob_score_"
   ]
  },
  {
   "cell_type": "code",
   "execution_count": 7,
   "id": "d3130e0f-fb78-4a14-9268-f4226237dbe9",
   "metadata": {},
   "outputs": [
    {
     "data": {
      "text/plain": [
       "array([0])"
      ]
     },
     "execution_count": 7,
     "metadata": {},
     "output_type": "execute_result"
    }
   ],
   "source": [
    "bagging_model.predict([XData[0]])"
   ]
  },
  {
   "cell_type": "code",
   "execution_count": 8,
   "id": "cdad28de-eb68-4343-9407-dc0849f5c945",
   "metadata": {},
   "outputs": [
    {
     "data": {
      "text/plain": [
       "array([[1., 0., 0.]])"
      ]
     },
     "execution_count": 8,
     "metadata": {},
     "output_type": "execute_result"
    }
   ],
   "source": [
    "bagging_model.predict_proba([XData[0]])"
   ]
  },
  {
   "cell_type": "code",
   "execution_count": 9,
   "id": "43c4cf79-0eed-4de6-bcc1-6ef020473118",
   "metadata": {},
   "outputs": [
    {
     "data": {
      "text/plain": [
       "0.9666666666666667"
      ]
     },
     "execution_count": 9,
     "metadata": {},
     "output_type": "execute_result"
    }
   ],
   "source": [
    "bagging_model.score(XData, YData)"
   ]
  },
  {
   "cell_type": "markdown",
   "id": "0eb00da7-4a7a-47ea-be6c-218a8458b32a",
   "metadata": {},
   "source": [
    "#### For Bagging Algorithms we got 0.96% accuracy."
   ]
  },
  {
   "cell_type": "markdown",
   "id": "82e680e3-2933-4739-a1c9-a9153997ca8b",
   "metadata": {},
   "source": [
    "### Random-Forest Classifier"
   ]
  },
  {
   "cell_type": "code",
   "execution_count": 10,
   "id": "95cc2735-60ad-479c-8a24-6af799b454f1",
   "metadata": {},
   "outputs": [],
   "source": [
    "RandomForest_model = RandomForestClassifier(n_estimators = 20, oob_score = True)"
   ]
  },
  {
   "cell_type": "code",
   "execution_count": 11,
   "id": "fb461b2d-5701-415b-bed2-f1fac96768e3",
   "metadata": {},
   "outputs": [
    {
     "data": {
      "text/plain": [
       "RandomForestClassifier(n_estimators=20, oob_score=True)"
      ]
     },
     "execution_count": 11,
     "metadata": {},
     "output_type": "execute_result"
    }
   ],
   "source": [
    "RandomForest_model.fit(XData, YData)"
   ]
  },
  {
   "cell_type": "code",
   "execution_count": 12,
   "id": "1aac17a3-d08d-49dd-9205-41a5b33f8e83",
   "metadata": {},
   "outputs": [
    {
     "data": {
      "text/plain": [
       "array([0])"
      ]
     },
     "execution_count": 12,
     "metadata": {},
     "output_type": "execute_result"
    }
   ],
   "source": [
    "RandomForest_model.predict([XData[0]])"
   ]
  },
  {
   "cell_type": "code",
   "execution_count": 13,
   "id": "3fe0e4d8-fce0-4725-88a5-fad912804650",
   "metadata": {},
   "outputs": [
    {
     "name": "stdout",
     "output_type": "stream",
     "text": [
      "Random Forest Model Accuracy is : \t 1.0\n"
     ]
    }
   ],
   "source": [
    "print(\"Random Forest Model Accuracy is : \\t\", RandomForest_model.score(XData, YData))"
   ]
  },
  {
   "cell_type": "markdown",
   "id": "a1b80710-b9ef-4ffc-a6dd-80b69442831e",
   "metadata": {},
   "source": [
    "### Adaboost Classifier"
   ]
  },
  {
   "cell_type": "code",
   "execution_count": 14,
   "id": "1695070d-c933-4fb3-a497-92918d842346",
   "metadata": {},
   "outputs": [],
   "source": [
    "AdaboostModel = AdaBoostClassifier(base_estimator=None,\n",
    "                                  n_estimators = 100)"
   ]
  },
  {
   "cell_type": "code",
   "execution_count": 15,
   "id": "06662302-3183-4682-b9e2-74c611331e08",
   "metadata": {},
   "outputs": [
    {
     "data": {
      "text/plain": [
       "AdaBoostClassifier(n_estimators=100)"
      ]
     },
     "execution_count": 15,
     "metadata": {},
     "output_type": "execute_result"
    }
   ],
   "source": [
    "AdaboostModel.fit(XData, YData)"
   ]
  },
  {
   "cell_type": "code",
   "execution_count": 16,
   "id": "b84119f8-6d01-4470-939c-c22836c49b1e",
   "metadata": {},
   "outputs": [
    {
     "data": {
      "text/plain": [
       "array([0])"
      ]
     },
     "execution_count": 16,
     "metadata": {},
     "output_type": "execute_result"
    }
   ],
   "source": [
    "AdaboostModel.predict([XData[0]])"
   ]
  },
  {
   "cell_type": "code",
   "execution_count": 17,
   "id": "ae16cb18-0c06-4125-8211-77890e42e598",
   "metadata": {},
   "outputs": [
    {
     "name": "stdout",
     "output_type": "stream",
     "text": [
      "Ada Boost Classifier Model Accuracy: \t 0.9733333333333334\n"
     ]
    }
   ],
   "source": [
    "print(\"Ada Boost Classifier Model Accuracy: \\t\", AdaboostModel.score(XData, YData))"
   ]
  },
  {
   "cell_type": "markdown",
   "id": "5b53ac84-d4c7-4cd0-bd9d-1fe3fda3582a",
   "metadata": {},
   "source": [
    "### Gradient Boosting Classifier"
   ]
  },
  {
   "cell_type": "code",
   "execution_count": 18,
   "id": "d2e6af27-1d7e-44e2-9089-71ebd5caa0ea",
   "metadata": {},
   "outputs": [],
   "source": [
    "Gradient_Model = GradientBoostingClassifier(n_estimators = 10)"
   ]
  },
  {
   "cell_type": "code",
   "execution_count": 19,
   "id": "e05ba92d-178e-41e7-a414-ac030e390bce",
   "metadata": {},
   "outputs": [
    {
     "data": {
      "text/plain": [
       "GradientBoostingClassifier(n_estimators=10)"
      ]
     },
     "execution_count": 19,
     "metadata": {},
     "output_type": "execute_result"
    }
   ],
   "source": [
    "Gradient_Model.fit(XData, YData)"
   ]
  },
  {
   "cell_type": "code",
   "execution_count": 20,
   "id": "f3a3da8e-b7d5-4417-a4b6-91a6173a5f52",
   "metadata": {},
   "outputs": [
    {
     "data": {
      "text/plain": [
       "array([0])"
      ]
     },
     "execution_count": 20,
     "metadata": {},
     "output_type": "execute_result"
    }
   ],
   "source": [
    "Gradient_Model.predict([XData[0]])"
   ]
  },
  {
   "cell_type": "code",
   "execution_count": 21,
   "id": "7c459f33-ec03-4e38-8c5d-a2873ea5101e",
   "metadata": {},
   "outputs": [
    {
     "name": "stdout",
     "output_type": "stream",
     "text": [
      "Gradient Boosting Classifier Model Accuracy :\t 0.9933333333333333\n"
     ]
    }
   ],
   "source": [
    "print(\"Gradient Boosting Classifier Model Accuracy :\\t\", Gradient_Model.score(XData, YData))"
   ]
  },
  {
   "cell_type": "code",
   "execution_count": 22,
   "id": "61cc5bde-ed48-4ab0-8e8f-f0cc6e634122",
   "metadata": {},
   "outputs": [
    {
     "data": {
      "text/plain": [
       "GradientBoostingClassifier(n_estimators=20, warm_start=True)"
      ]
     },
     "execution_count": 22,
     "metadata": {},
     "output_type": "execute_result"
    }
   ],
   "source": [
    "Gradient_Model.set_params(n_estimators = 20, warm_start = True)"
   ]
  },
  {
   "cell_type": "code",
   "execution_count": 23,
   "id": "617a85a1-7b9f-4883-b4a8-5ce16ea89f5e",
   "metadata": {},
   "outputs": [
    {
     "data": {
      "text/plain": [
       "GradientBoostingClassifier(n_estimators=20, warm_start=True)"
      ]
     },
     "execution_count": 23,
     "metadata": {},
     "output_type": "execute_result"
    }
   ],
   "source": [
    "Gradient_Model.fit(XData, YData)"
   ]
  },
  {
   "cell_type": "code",
   "execution_count": 24,
   "id": "04f7adbd-db5a-422c-b396-5afb6b693b97",
   "metadata": {},
   "outputs": [
    {
     "name": "stdout",
     "output_type": "stream",
     "text": [
      "Gradient Boosting Classifier Accuracy Score after adding Parameters: \t 1.0\n"
     ]
    }
   ],
   "source": [
    "print(\"Gradient Boosting Classifier Accuracy Score after adding Parameters: \\t\", Gradient_Model.score(XData, YData))"
   ]
  },
  {
   "cell_type": "markdown",
   "id": "4b1d252f-da6b-4b2c-a277-c7359c219695",
   "metadata": {},
   "source": [
    "### Voting Classifier"
   ]
  },
  {
   "cell_type": "code",
   "execution_count": 25,
   "id": "6b65c1c7-b7e2-4f11-b0c3-b9f14971926f",
   "metadata": {},
   "outputs": [],
   "source": [
    "Voting_Model = VotingClassifier(estimators = [(\"lr\", LogisticRegression()),\n",
    "                                             (\"rf\", RandomForestClassifier()),\n",
    "                                             (\"gnb\", GaussianNB())],\n",
    "                               voting = 'hard')"
   ]
  },
  {
   "cell_type": "code",
   "execution_count": 26,
   "id": "7ed3af36-4a68-453d-83bd-36ca5dd5df48",
   "metadata": {},
   "outputs": [
    {
     "name": "stderr",
     "output_type": "stream",
     "text": [
      "C:\\Users\\ahamm\\Anaconda3\\envs\\DS\\lib\\site-packages\\sklearn\\linear_model\\_logistic.py:818: ConvergenceWarning: lbfgs failed to converge (status=1):\n",
      "STOP: TOTAL NO. of ITERATIONS REACHED LIMIT.\n",
      "\n",
      "Increase the number of iterations (max_iter) or scale the data as shown in:\n",
      "    https://scikit-learn.org/stable/modules/preprocessing.html\n",
      "Please also refer to the documentation for alternative solver options:\n",
      "    https://scikit-learn.org/stable/modules/linear_model.html#logistic-regression\n",
      "  extra_warning_msg=_LOGISTIC_SOLVER_CONVERGENCE_MSG,\n"
     ]
    },
    {
     "data": {
      "text/plain": [
       "VotingClassifier(estimators=[('lr', LogisticRegression()),\n",
       "                             ('rf', RandomForestClassifier()),\n",
       "                             ('gnb', GaussianNB())])"
      ]
     },
     "execution_count": 26,
     "metadata": {},
     "output_type": "execute_result"
    }
   ],
   "source": [
    "Voting_Model.fit(XData, YData)"
   ]
  },
  {
   "cell_type": "code",
   "execution_count": 27,
   "id": "3106fef2-4ca0-4989-a503-144b61182098",
   "metadata": {},
   "outputs": [
    {
     "name": "stdout",
     "output_type": "stream",
     "text": [
      "Voting Model Concept Model Accuracy: \t 0.98\n"
     ]
    }
   ],
   "source": [
    "print(\"Voting Model Concept Model Accuracy: \\t\", Voting_Model.score(XData, YData))"
   ]
  }
 ],
 "metadata": {
  "kernelspec": {
   "display_name": "Python 3 (ipykernel)",
   "language": "python",
   "name": "python3"
  },
  "language_info": {
   "codemirror_mode": {
    "name": "ipython",
    "version": 3
   },
   "file_extension": ".py",
   "mimetype": "text/x-python",
   "name": "python",
   "nbconvert_exporter": "python",
   "pygments_lexer": "ipython3",
   "version": "3.7.11"
  }
 },
 "nbformat": 4,
 "nbformat_minor": 5
}
